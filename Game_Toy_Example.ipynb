{
  "nbformat": 4,
  "nbformat_minor": 0,
  "metadata": {
    "colab": {
      "provenance": []
    },
    "kernelspec": {
      "name": "python3",
      "display_name": "Python 3"
    },
    "language_info": {
      "name": "python"
    }
  },
  "cells": [
    {
      "cell_type": "markdown",
      "source": [
        "# Game"
      ],
      "metadata": {
        "id": "BFzwCPtEG3gV"
      }
    },
    {
      "cell_type": "code",
      "source": [
        "class Game:\n",
        "  def __init__(self):\n",
        "    self.commands = []\n",
        "\n",
        "  def f(self, x, y):\n",
        "    self.commands.append((Game.f, {'x': x, 'y': y}))\n",
        "    print('this is f, x =', x, ', y =', y)\n",
        "\n",
        "  def g(self, x, y):\n",
        "    self.commands.append((Game.f, {'x': x, 'y': y}))\n",
        "    print('this is g, x =', x, ' y =', y)\n",
        "\n",
        "  def repeat_command(self, **kwargs):\n",
        "    ind = kwargs['ind']\n",
        "    d = self.commands[ind][1]\n",
        "    i = 1\n",
        "    for key, value in kwargs.items():\n",
        "      if key != 'ind':\n",
        "        d[key] = value\n",
        "    self.commands[ind][0](self, **d)\n",
        "\n",
        "game = Game()\n",
        "game.f(x = 'original_x', y = 'original_y')\n",
        "game.g(x = 'original_x', y = 'original_y')\n",
        "game.repeat_command(ind = 0, y = 'new_y')\n",
        "game.repeat_command(ind = 2, x = 'new_x')\n"
      ],
      "metadata": {
        "colab": {
          "base_uri": "https://localhost:8080/"
        },
        "id": "7Nt4RlOnjmej",
        "outputId": "532c9824-7362-4f0d-9caa-5e490fa2e20a"
      },
      "execution_count": 1,
      "outputs": [
        {
          "output_type": "stream",
          "name": "stdout",
          "text": [
            "this is f, x = original_x , y = original_y\n",
            "this is g, x = original_x  y = original_y\n",
            "this is f, x = original_x , y = new_y\n",
            "this is f, x = new_x , y = new_y\n"
          ]
        }
      ]
    },
    {
      "cell_type": "code",
      "source": [
        "# class Commands:\n",
        "#   def __init__(self):\n",
        "#     self.commands = []\n",
        "\n",
        "#   def f(self, **args):\n",
        "#     if isinstance(list(args.values())[0], dict):\n",
        "#       args = list(args.values())[0]\n",
        "#     self.commands.append((Commands.f, args))\n",
        "#     print('x =', args['x'], ' y =', args['y'])\n",
        "\n",
        "#   def repeat_command(self, **kwargs):\n",
        "#     ind = kwargs['ind']\n",
        "#     d = self.commands[ind][1]\n",
        "#     i = 1\n",
        "#     for key, value in kwargs.items():\n",
        "#       if key != 'ind':\n",
        "#         d[key] = value\n",
        "#     self.commands[ind][0](self, d = d)\n",
        "\n",
        "# commands = Commands()\n",
        "# commands.f(x = 'original_x', y = 'original_y')\n",
        "# commands.repeat_command(ind = 0, y = 'new_y')\n"
      ],
      "metadata": {
        "colab": {
          "base_uri": "https://localhost:8080/"
        },
        "id": "R-xoBAwBbwiA",
        "outputId": "a1f07a96-b984-455d-84fc-c25c75628f04"
      },
      "execution_count": 50,
      "outputs": [
        {
          "output_type": "stream",
          "name": "stdout",
          "text": [
            "x = original_x  y = original_y\n",
            "x = original_x  y = new_y\n"
          ]
        }
      ]
    },
    {
      "cell_type": "code",
      "source": [
        "# # Game toy example\n",
        "\n",
        "# class Game:\n",
        "#   HEIGHT = 10\n",
        "#   WIDTH = 18\n",
        "#   COLORS = ('white', 'black', 'yellow', 'green', 'red', 'blue', 'purple', 'orange')\n",
        "#   DIRECTIONS = {'up': [0, -1, 1], 'down': [0, 1, -1], 'down_right': [1, 0, -1], 'up_left': [-1, 0, 1], 'down_left': [-1, 1, 0], 'up_right': [1, -1, 0]}\n",
        "\n",
        "#   def __init__(self):\n",
        "#     self.tiles = [0 for _ in range(Game.HEIGHT * Game.WIDTH)]\n",
        "#     self.current_command = None\n",
        "#     self.steps = []\n",
        "\n",
        "#   class Step:\n",
        "#     def __init__(self, name)\n",
        "\n",
        "#   class Command:\n",
        "#     def __init__(self, name)\n",
        "\n",
        "#   def __lind(*args):\n",
        "#     if len(args) == 2:\n",
        "#       column = args[0]\n",
        "#       row = args[1]\n",
        "#       return int((row - 1) * WIDTH + (column - 1))\n",
        "\n",
        "#   class Tile:\n",
        "\n",
        "\n",
        "#   def draw_tile(self, column, row, color):\n",
        "#     self.tiles[lind(clumn, row)] = COLORS.index(color)\n",
        "      \n",
        "\n"
      ],
      "metadata": {
        "id": "IBFJSunMU8NE"
      },
      "execution_count": null,
      "outputs": []
    }
  ]
}